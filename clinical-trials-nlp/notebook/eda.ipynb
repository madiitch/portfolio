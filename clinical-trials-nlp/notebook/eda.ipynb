{
 "cells": [
  {
   "cell_type": "markdown",
   "id": "1fb64149",
   "metadata": {},
   "source": [
    "\n",
    "# Clinical Trials NLP — EDA & Results\n",
    "\n",
    "This notebook summarizes the dataset and results for the **Clinical Trials NLP** project.\n",
    "It is designed so **user can render everything without running**—after you run the cells once locally and save the notebook with outputs.\n",
    "\n",
    "**What you'll see here:**\n",
    "- Basic dataset stats (trials, endpoints, coverage)\n",
    "- Phase distribution\n",
    "- A few example trials with extracted endpoints\n",
    "- Data preprocessing and cleaning\n",
    "- Training and evaluating\n",
    "- Figures saved to `clinical-trials-nlp/reports/`\n",
    "\n"
   ]
  },
  {
   "cell_type": "code",
   "execution_count": 1,
   "id": "f2a50a46",
   "metadata": {},
   "outputs": [
    {
     "name": "stderr",
     "output_type": "stream",
     "text": [
      "/Users/zina/opt/anaconda3/lib/python3.9/site-packages/pandas/core/computation/expressions.py:21: UserWarning: Pandas requires version '2.8.4' or newer of 'numexpr' (version '2.7.3' currently installed).\n",
      "  from pandas.core.computation.check import NUMEXPR_INSTALLED\n",
      "/Users/zina/opt/anaconda3/lib/python3.9/site-packages/pandas/core/arrays/masked.py:60: UserWarning: Pandas requires version '1.3.6' or newer of 'bottleneck' (version '1.3.2' currently installed).\n",
      "  from pandas.core import (\n"
     ]
    },
    {
     "name": "stdout",
     "output_type": "stream",
     "text": [
      "Using:\n",
      "  TRIALS  : /Users/zina/Desktop/upwork_data_science_portfolio/clinical-trials-nlp/data/trials.jsonl\n",
      "  ENDPOINTS: /Users/zina/Desktop/upwork_data_science_portfolio/clinical-trials-nlp/data/endpoints.jsonl\n",
      "  REPORTS : /Users/zina/Desktop/upwork_data_science_portfolio/clinical-trials-nlp/reports\n"
     ]
    }
   ],
   "source": [
    "import os, json, re, collections\n",
    "from pathlib import Path\n",
    "import pandas as pd\n",
    "import matplotlib.pyplot as plt\n",
    "\n",
    "# Paths relative to repo root (adjust if needed)\n",
    "ROOT = Path.cwd().parent\n",
    "DATA = ROOT / \"data\"\n",
    "REPORTS = ROOT / \"reports\"\n",
    "\n",
    "TRIALS_PATH = DATA / \"trials.jsonl\"\n",
    "ENDPOINTS_PATH = DATA / \"endpoints.jsonl\"\n",
    "\n",
    "REPORTS.mkdir(parents=True, exist_ok=True)\n",
    "\n",
    "print(\"Using:\")\n",
    "print(\"  TRIALS  :\", TRIALS_PATH)\n",
    "print(\"  ENDPOINTS:\", ENDPOINTS_PATH)\n",
    "print(\"  REPORTS :\", REPORTS)\n"
   ]
  },
  {
   "cell_type": "code",
   "execution_count": 28,
   "id": "a6ec7506",
   "metadata": {},
   "outputs": [
    {
     "name": "stdout",
     "output_type": "stream",
     "text": [
      "Trials file rows: 2000\n",
      "Endpoints file rows: 2000\n"
     ]
    },
    {
     "data": {
      "text/html": [
       "<div>\n",
       "<style scoped>\n",
       "    .dataframe tbody tr th:only-of-type {\n",
       "        vertical-align: middle;\n",
       "    }\n",
       "\n",
       "    .dataframe tbody tr th {\n",
       "        vertical-align: top;\n",
       "    }\n",
       "\n",
       "    .dataframe thead th {\n",
       "        text-align: right;\n",
       "    }\n",
       "</style>\n",
       "<table border=\"1\" class=\"dataframe\">\n",
       "  <thead>\n",
       "    <tr style=\"text-align: right;\">\n",
       "      <th></th>\n",
       "      <th>nct_id</th>\n",
       "      <th>title</th>\n",
       "      <th>brief_summary</th>\n",
       "      <th>phase</th>\n",
       "      <th>condition</th>\n",
       "      <th>study_type</th>\n",
       "      <th>extracted_endpoints</th>\n",
       "    </tr>\n",
       "  </thead>\n",
       "  <tbody>\n",
       "    <tr>\n",
       "      <th>0</th>\n",
       "      <td>NCT02087176</td>\n",
       "      <td>A Placebo Controlled Study Comparing AZD1775+ ...</td>\n",
       "      <td>A Lead-in Phase II Multicentre, Randomised, Do...</td>\n",
       "      <td>PHASE2</td>\n",
       "      <td>Previously Treated Non Small Cell Lung Cancer</td>\n",
       "      <td>INTERVENTIONAL</td>\n",
       "      <td>[]</td>\n",
       "    </tr>\n",
       "    <tr>\n",
       "      <th>1</th>\n",
       "      <td>NCT05512676</td>\n",
       "      <td>Trabectedin/Caelyx vs Cisplatin Hypersensitivi...</td>\n",
       "      <td>Observational, clinical study. Intention to in...</td>\n",
       "      <td>None</td>\n",
       "      <td>Ovarian Neoplasm</td>\n",
       "      <td>OBSERVATIONAL</td>\n",
       "      <td>[]</td>\n",
       "    </tr>\n",
       "    <tr>\n",
       "      <th>2</th>\n",
       "      <td>NCT03146117</td>\n",
       "      <td>PET-DECT for Staging and Imaged Based Radiothe...</td>\n",
       "      <td>The overall goal of this project is to investi...</td>\n",
       "      <td>None</td>\n",
       "      <td>PET CT</td>\n",
       "      <td>OBSERVATIONAL</td>\n",
       "      <td>[]</td>\n",
       "    </tr>\n",
       "    <tr>\n",
       "      <th>3</th>\n",
       "      <td>NCT03272217</td>\n",
       "      <td>Atezolizumab With Bevacizumab in Previously Un...</td>\n",
       "      <td>This is a phase II study assessing the activit...</td>\n",
       "      <td>PHASE2</td>\n",
       "      <td>Urothelial Carcinoma</td>\n",
       "      <td>INTERVENTIONAL</td>\n",
       "      <td>[]</td>\n",
       "    </tr>\n",
       "    <tr>\n",
       "      <th>4</th>\n",
       "      <td>NCT06706076</td>\n",
       "      <td>A Study of BH-30643 in Subjects With Locally A...</td>\n",
       "      <td>BH-30643-01 is a Phase 1/2, first-in-human, op...</td>\n",
       "      <td>PHASE1</td>\n",
       "      <td>NSCLC (Advanced Non-small Cell Lung Cancer)</td>\n",
       "      <td>INTERVENTIONAL</td>\n",
       "      <td>[]</td>\n",
       "    </tr>\n",
       "    <tr>\n",
       "      <th>5</th>\n",
       "      <td>NCT01865617</td>\n",
       "      <td>Laboratory Treated T Cells in Treating Patient...</td>\n",
       "      <td>This phase I/II trial studies the side effects...</td>\n",
       "      <td>PHASE1</td>\n",
       "      <td>CD19-Positive Neoplastic Cells Present</td>\n",
       "      <td>INTERVENTIONAL</td>\n",
       "      <td>[]</td>\n",
       "    </tr>\n",
       "    <tr>\n",
       "      <th>6</th>\n",
       "      <td>NCT04473040</td>\n",
       "      <td>Managed Access Program to Provide Access to Al...</td>\n",
       "      <td>The purpose of this Cohort Treatment Plan is t...</td>\n",
       "      <td>None</td>\n",
       "      <td>HR+, HER2-, Advanced Breast Cancer</td>\n",
       "      <td>EXPANDED_ACCESS</td>\n",
       "      <td>[]</td>\n",
       "    </tr>\n",
       "    <tr>\n",
       "      <th>7</th>\n",
       "      <td>NCT07037589</td>\n",
       "      <td>Women With isoLated acUte cyStitis and Macrosc...</td>\n",
       "      <td>This prospective multicenter observational stu...</td>\n",
       "      <td>None</td>\n",
       "      <td>Hematuria</td>\n",
       "      <td>OBSERVATIONAL</td>\n",
       "      <td>[is to identify low-risk patients where invasi...</td>\n",
       "    </tr>\n",
       "    <tr>\n",
       "      <th>8</th>\n",
       "      <td>NCT02404389</td>\n",
       "      <td>Safety, Tolerability, and Efficacy Study of LF...</td>\n",
       "      <td>This is a randomized, vehicle controlled, acti...</td>\n",
       "      <td>PHASE2</td>\n",
       "      <td>Actinic Keratosis</td>\n",
       "      <td>INTERVENTIONAL</td>\n",
       "      <td>[]</td>\n",
       "    </tr>\n",
       "    <tr>\n",
       "      <th>9</th>\n",
       "      <td>NCT04666168</td>\n",
       "      <td>A Multicenter Clinical Study on the Safety and...</td>\n",
       "      <td>This study is a multicenter, non randomized, s...</td>\n",
       "      <td>NA</td>\n",
       "      <td>Non-hodgkin's Lymphoma</td>\n",
       "      <td>INTERVENTIONAL</td>\n",
       "      <td>[]</td>\n",
       "    </tr>\n",
       "  </tbody>\n",
       "</table>\n",
       "</div>"
      ],
      "text/plain": [
       "        nct_id                                              title  \\\n",
       "0  NCT02087176  A Placebo Controlled Study Comparing AZD1775+ ...   \n",
       "1  NCT05512676  Trabectedin/Caelyx vs Cisplatin Hypersensitivi...   \n",
       "2  NCT03146117  PET-DECT for Staging and Imaged Based Radiothe...   \n",
       "3  NCT03272217  Atezolizumab With Bevacizumab in Previously Un...   \n",
       "4  NCT06706076  A Study of BH-30643 in Subjects With Locally A...   \n",
       "5  NCT01865617  Laboratory Treated T Cells in Treating Patient...   \n",
       "6  NCT04473040  Managed Access Program to Provide Access to Al...   \n",
       "7  NCT07037589  Women With isoLated acUte cyStitis and Macrosc...   \n",
       "8  NCT02404389  Safety, Tolerability, and Efficacy Study of LF...   \n",
       "9  NCT04666168  A Multicenter Clinical Study on the Safety and...   \n",
       "\n",
       "                                       brief_summary   phase  \\\n",
       "0  A Lead-in Phase II Multicentre, Randomised, Do...  PHASE2   \n",
       "1  Observational, clinical study. Intention to in...    None   \n",
       "2  The overall goal of this project is to investi...    None   \n",
       "3  This is a phase II study assessing the activit...  PHASE2   \n",
       "4  BH-30643-01 is a Phase 1/2, first-in-human, op...  PHASE1   \n",
       "5  This phase I/II trial studies the side effects...  PHASE1   \n",
       "6  The purpose of this Cohort Treatment Plan is t...    None   \n",
       "7  This prospective multicenter observational stu...    None   \n",
       "8  This is a randomized, vehicle controlled, acti...  PHASE2   \n",
       "9  This study is a multicenter, non randomized, s...      NA   \n",
       "\n",
       "                                       condition       study_type  \\\n",
       "0  Previously Treated Non Small Cell Lung Cancer   INTERVENTIONAL   \n",
       "1                               Ovarian Neoplasm    OBSERVATIONAL   \n",
       "2                                         PET CT    OBSERVATIONAL   \n",
       "3                           Urothelial Carcinoma   INTERVENTIONAL   \n",
       "4    NSCLC (Advanced Non-small Cell Lung Cancer)   INTERVENTIONAL   \n",
       "5         CD19-Positive Neoplastic Cells Present   INTERVENTIONAL   \n",
       "6             HR+, HER2-, Advanced Breast Cancer  EXPANDED_ACCESS   \n",
       "7                                      Hematuria    OBSERVATIONAL   \n",
       "8                              Actinic Keratosis   INTERVENTIONAL   \n",
       "9                         Non-hodgkin's Lymphoma   INTERVENTIONAL   \n",
       "\n",
       "                                 extracted_endpoints  \n",
       "0                                                 []  \n",
       "1                                                 []  \n",
       "2                                                 []  \n",
       "3                                                 []  \n",
       "4                                                 []  \n",
       "5                                                 []  \n",
       "6                                                 []  \n",
       "7  [is to identify low-risk patients where invasi...  \n",
       "8                                                 []  \n",
       "9                                                 []  "
      ]
     },
     "execution_count": 28,
     "metadata": {},
     "output_type": "execute_result"
    }
   ],
   "source": [
    "\n",
    "# Load trials and endpoints jsonl\n",
    "import json\n",
    "def read_jsonl(p):\n",
    "    rows = []\n",
    "    with open(p, \"r\", encoding=\"utf-8\") as f:\n",
    "        for line in f:\n",
    "            try:\n",
    "                rows.append(json.loads(line))\n",
    "            except json.JSONDecodeError:\n",
    "                pass\n",
    "    return pd.DataFrame(rows)\n",
    "\n",
    "df_trials = read_jsonl(TRIALS_PATH)\n",
    "df_endp = read_jsonl(ENDPOINTS_PATH)\n",
    "\n",
    "print(\"Trials file rows:\", len(df_trials))\n",
    "print(\"Endpoints file rows:\", len(df_endp))\n",
    "\n",
    "# merge to one table\n",
    "\n",
    "key = \"nct_id\" if (\"nct_id\" in df_trials.columns and \"nct_id\" in df_endp) else \"title\"\n",
    "\n",
    "if df_endp.duplicated(subset=[key]).any():\n",
    "    df_endp = (df_endp\n",
    "                    .groupby(key, as_index=False)[\"extracted_endpoints\"]\n",
    "                    .apply(lambda s: sum((x if isinstance(x, list) else [x] for x in s), []))\n",
    "                    .reset_index(drop=True))\n",
    "\n",
    "cols_to_add = [c for c in [\"extracted_endpoints\", \"primary_outcomes\", \"secondary_outcomes\"] if c in df_endp.columns]\n",
    "df_add = df_endp[[key] + cols_to_add].copy()\n",
    "\n",
    "df = df_trials.merge(df_add, on=key, how=\"left\")\n",
    "\n",
    "for c in cols_to_add:\n",
    "    if c in df.columns:\n",
    "        df[c] = df[c].apply(lambda x: x if isinstance(x, list) else ([] if pd.isna(x) else [x]))\n",
    "\n",
    "df.head(10)\n"
   ]
  },
  {
   "cell_type": "markdown",
   "id": "d7031662",
   "metadata": {},
   "source": [
    "It is absolutely normal to don't have enough endpoints extracted. It can be treated by implementing transformers or spaCy to understand semantics better, because for now we have only regex scanning here. "
   ]
  },
  {
   "cell_type": "code",
   "execution_count": 7,
   "id": "8135d949",
   "metadata": {},
   "outputs": [
    {
     "name": "stdout",
     "output_type": "stream",
     "text": [
      "Trials: 2000\n",
      "With endpoints: 987 (49.4%)\n"
     ]
    },
    {
     "data": {
      "text/plain": [
       "phase\n",
       "PHASE2          488\n",
       "NONE            454\n",
       "NA              450\n",
       "PHASE1          399\n",
       "PHASE3          124\n",
       "PHASE4           61\n",
       "EARLY_PHASE1     24\n",
       "Name: count, dtype: int64"
      ]
     },
     "execution_count": 7,
     "metadata": {},
     "output_type": "execute_result"
    }
   ],
   "source": [
    "# Basic stats\n",
    "n_trials = len(df)\n",
    "n_with_endp = int(df[\"extracted_endpoints\"].apply(lambda x: isinstance(x, (list, tuple)) and len(x) > 0).sum())\n",
    "coverage = n_with_endp / n_trials if n_trials else 0.0\n",
    "\n",
    "print(f\"Trials: {n_trials}\")\n",
    "print(f\"With endpoints: {n_with_endp} ({coverage:.1%})\")\n",
    "\n",
    "# Phase distribution\n",
    "phase_col_candidates = [c for c in df.columns if c.lower().endswith(\"phase\")]\n",
    "phase_col = phase_col_candidates[0] if phase_col_candidates else \"phase\"\n",
    "df[phase_col] = df[phase_col].astype(str).str.upper().str.strip()\n",
    "phase_counts = df[phase_col].value_counts()\n",
    "phase_counts\n"
   ]
  },
  {
   "cell_type": "code",
   "execution_count": 8,
   "id": "846dc7fd",
   "metadata": {},
   "outputs": [
    {
     "data": {
      "image/png": "[encoded data removed]",
      "text/plain": [
       "<Figure size 504x288 with 1 Axes>"
      ]
     },
     "metadata": {
      "needs_background": "light"
     },
     "output_type": "display_data"
    },
    {
     "name": "stdout",
     "output_type": "stream",
     "text": [
      "Saved: /Users/zina/Desktop/upwork_data_science_portfolio/clinical-trials-nlp/reports/fig_phase_distribution.png\n"
     ]
    }
   ],
   "source": [
    "# Plot phase distribution\n",
    "plt.figure(figsize=(7,4))\n",
    "phase_counts.plot(kind=\"bar\")\n",
    "plt.title(\"Trial Phase Distribution\")\n",
    "plt.xlabel(\"Phase\")\n",
    "plt.ylabel(\"Count\")\n",
    "fig_path1 = REPORTS / \"fig_phase_distribution.png\"\n",
    "plt.tight_layout()\n",
    "plt.savefig(fig_path1, dpi=160)\n",
    "plt.show()\n",
    "print(\"Saved:\", fig_path1)\n"
   ]
  },
  {
   "cell_type": "code",
   "execution_count": null,
   "id": "f3251a34",
   "metadata": {},
   "outputs": [
    {
     "data": {
      "text/html": [
       "<div>\n",
       "<style scoped>\n",
       "    .dataframe tbody tr th:only-of-type {\n",
       "        vertical-align: middle;\n",
       "    }\n",
       "\n",
       "    .dataframe tbody tr th {\n",
       "        vertical-align: top;\n",
       "    }\n",
       "\n",
       "    .dataframe thead th {\n",
       "        text-align: right;\n",
       "    }\n",
       "</style>\n",
       "<table border=\"1\" class=\"dataframe\">\n",
       "  <thead>\n",
       "    <tr style=\"text-align: right;\">\n",
       "      <th></th>\n",
       "      <th>nct_id</th>\n",
       "      <th>title</th>\n",
       "      <th>phase</th>\n",
       "      <th>extracted_endpoints</th>\n",
       "    </tr>\n",
       "  </thead>\n",
       "  <tbody>\n",
       "    <tr>\n",
       "      <th>7</th>\n",
       "      <td>NCT07037589</td>\n",
       "      <td>Women With isoLated acUte cyStitis and Macrosc...</td>\n",
       "      <td>NONE</td>\n",
       "      <td>[is to identify low-risk patients where invasi...</td>\n",
       "    </tr>\n",
       "    <tr>\n",
       "      <th>10</th>\n",
       "      <td>NCT04013568</td>\n",
       "      <td>Exercise Post-Diagnosis of Breast Cancer</td>\n",
       "      <td>NA</td>\n",
       "      <td>[if there are body composition changes after a...</td>\n",
       "    </tr>\n",
       "    <tr>\n",
       "      <th>11</th>\n",
       "      <td>NCT06766591</td>\n",
       "      <td>Ivonescimab Combined With Chemotherapy for the...</td>\n",
       "      <td>NA</td>\n",
       "      <td>[* iPFS (intracranial progression free surviva...</td>\n",
       "    </tr>\n",
       "    <tr>\n",
       "      <th>12</th>\n",
       "      <td>NCT01535391</td>\n",
       "      <td>Nilotinib in PH+, BCR-, ABL+ CML Patients</td>\n",
       "      <td>PHASE3</td>\n",
       "      <td>[of the trial is to evaluate the efficacy of n...</td>\n",
       "    </tr>\n",
       "    <tr>\n",
       "      <th>15</th>\n",
       "      <td>NCT07066813</td>\n",
       "      <td>Staging Strategies and Their Association With ...</td>\n",
       "      <td>NONE</td>\n",
       "      <td>[the most accurate tumor size measurement meth...</td>\n",
       "    </tr>\n",
       "  </tbody>\n",
       "</table>\n",
       "</div>"
      ],
      "text/plain": [
       "         nct_id                                              title   phase  \\\n",
       "7   NCT07037589  Women With isoLated acUte cyStitis and Macrosc...    NONE   \n",
       "10  NCT04013568           Exercise Post-Diagnosis of Breast Cancer      NA   \n",
       "11  NCT06766591  Ivonescimab Combined With Chemotherapy for the...      NA   \n",
       "12  NCT01535391          Nilotinib in PH+, BCR-, ABL+ CML Patients  PHASE3   \n",
       "15  NCT07066813  Staging Strategies and Their Association With ...    NONE   \n",
       "\n",
       "                                  extracted_endpoints  \n",
       "7   [is to identify low-risk patients where invasi...  \n",
       "10  [if there are body composition changes after a...  \n",
       "11  [* iPFS (intracranial progression free surviva...  \n",
       "12  [of the trial is to evaluate the efficacy of n...  \n",
       "15  [the most accurate tumor size measurement meth...  "
      ]
     },
     "execution_count": 11,
     "metadata": {},
     "output_type": "execute_result"
    }
   ],
   "source": [
    "# Show a few example trials with endpoints\n",
    "examples = df[df[\"extracted_endpoints\"].apply(lambda x: isinstance(x, (list, tuple)) and len(x)>0)].head(5)\n",
    "examples[[\"nct_id\" if \"nct_id\" in examples.columns else examples.columns[0], \"title\", phase_col, \"extracted_endpoints\"]]\n"
   ]
  },
  {
   "cell_type": "code",
   "execution_count": 29,
   "id": "92be83c5",
   "metadata": {},
   "outputs": [
    {
     "name": "stdout",
     "output_type": "stream",
     "text": [
      "phase\n",
      "<NA>       904\n",
      "PHASE 2    488\n",
      "PHASE 1    423\n",
      "PHASE 3    124\n",
      "PHASE 4     61\n",
      "Name: count, dtype: Int64\n"
     ]
    }
   ],
   "source": [
    "replace_map = {\n",
    "            \"NONE\": pd.NA,\n",
    "            \"NA\": pd.NA,\n",
    "            \"PHASE2\" : \"PHASE 2\",\n",
    "            \"PHASE1\" : \"PHASE 1\",\n",
    "            \"PHASE3\" : \"PHASE 3\",\n",
    "            \"PHASE4\" : \"PHASE 4\",\n",
    "            \"EARLY_PHASE1\" : \"PHASE 1\"\n",
    "}\n",
    "\n",
    "df['phase_clean'] = (\n",
    "                        df['phase']\n",
    "                        .astype(\"string\")\n",
    "                        .str.upper().str.strip()\n",
    "                        .replace(replace_map)\n",
    ")\n",
    "\n",
    "df['phase'] = df[\"phase_clean\"]\n",
    "\n",
    "print(df['phase'].value_counts(dropna=False))"
   ]
  },
  {
   "cell_type": "code",
   "execution_count": 57,
   "id": "50a1ca77",
   "metadata": {},
   "outputs": [
    {
     "data": {
      "text/plain": [
       "phase\n",
       "PHASE 2    488\n",
       "PHASE 1    423\n",
       "PHASE 3    124\n",
       "PHASE 4     61\n",
       "Name: count, dtype: Int64"
      ]
     },
     "metadata": {},
     "output_type": "display_data"
    },
    {
     "data": {
      "image/png": "[encoded data removed]",
      "text/plain": [
       "<Figure size 432x288 with 1 Axes>"
      ]
     },
     "metadata": {
      "needs_background": "light"
     },
     "output_type": "display_data"
    },
    {
     "name": "stdout",
     "output_type": "stream",
     "text": [
      "Saved: /Users/zina/Desktop/upwork_data_science_portfolio/clinical-trials-nlp/reports/phase_dist_2.png\n"
     ]
    },
    {
     "data": {
      "image/png": "[encoded data removed]",
      "text/plain": [
       "<Figure size 360x360 with 1 Axes>"
      ]
     },
     "metadata": {},
     "output_type": "display_data"
    },
    {
     "name": "stdout",
     "output_type": "stream",
     "text": [
      "Saved: /Users/zina/Desktop/upwork_data_science_portfolio/clinical-trials-nlp/reports/pie.png\n"
     ]
    }
   ],
   "source": [
    "vc = df['phase'].value_counts().sort_values(ascending=False)\n",
    "display(vc)\n",
    "\n",
    "plt.figure(figsize=(6,4))\n",
    "vc.plot(kind=\"bar\")\n",
    "plt.title(\"Trial Phase Distribution (after cleaning)\")\n",
    "plt.xlabel(\"Phase\")\n",
    "plt.ylabel(\"Count\")\n",
    "fig_path2 = REPORTS / \"phase_dist_2.png\"\n",
    "plt.tight_layout()\n",
    "plt.savefig(fig_path2, dpi=160)\n",
    "plt.show()\n",
    "print(\"Saved:\", fig_path2)\n",
    "\n",
    "# class proportion pie (optional)\n",
    "plt.figure(figsize=(5,5))\n",
    "vc.plot(kind=\"pie\", autopct=\"%1.1f%%\")\n",
    "plt.ylabel(\"\")\n",
    "plt.title(\"Class Proportions\")\n",
    "fig_path3 = REPORTS / \"pie.png\"\n",
    "plt.tight_layout()\n",
    "plt.savefig(fig_path3, dpi=160)\n",
    "plt.show()\n",
    "print(\"Saved:\", fig_path3)"
   ]
  },
  {
   "cell_type": "markdown",
   "id": "21cf9f94",
   "metadata": {},
   "source": [
    "We can see here a solid class imbalance - phase I and II take precedence over phase I and IV. Moreover, more around 50% of dataset is NA. "
   ]
  },
  {
   "cell_type": "code",
   "execution_count": 55,
   "id": "ad50faf5",
   "metadata": {},
   "outputs": [],
   "source": [
    "X = df['brief_summary'].fillna(\"\").astype(\"string\").str.strip().to_numpy()\n",
    "y = df['phase'].fillna(\"\").astype(\"string\").str.strip().to_numpy()"
   ]
  },
  {
   "cell_type": "code",
   "execution_count": 56,
   "id": "2c356a91",
   "metadata": {},
   "outputs": [
    {
     "name": "stdout",
     "output_type": "stream",
     "text": [
      "              precision    recall  f1-score   support\n",
      "\n",
      "                  0.735     0.950     0.829       181\n",
      "     PHASE 1      0.773     0.600     0.675        85\n",
      "     PHASE 2      0.610     0.629     0.619        97\n",
      "     PHASE 3      0.000     0.000     0.000        25\n",
      "     PHASE 4      0.000     0.000     0.000        12\n",
      "\n",
      "    accuracy                          0.710       400\n",
      "   macro avg      0.424     0.436     0.425       400\n",
      "weighted avg      0.645     0.710     0.669       400\n",
      "\n"
     ]
    },
    {
     "name": "stderr",
     "output_type": "stream",
     "text": [
      "/Users/zina/opt/anaconda3/lib/python3.9/site-packages/sklearn/metrics/_classification.py:1531: UndefinedMetricWarning: Precision is ill-defined and being set to 0.0 in labels with no predicted samples. Use `zero_division` parameter to control this behavior.\n",
      "  _warn_prf(average, modifier, f\"{metric.capitalize()} is\", len(result))\n",
      "/Users/zina/opt/anaconda3/lib/python3.9/site-packages/sklearn/metrics/_classification.py:1531: UndefinedMetricWarning: Precision is ill-defined and being set to 0.0 in labels with no predicted samples. Use `zero_division` parameter to control this behavior.\n",
      "  _warn_prf(average, modifier, f\"{metric.capitalize()} is\", len(result))\n",
      "/Users/zina/opt/anaconda3/lib/python3.9/site-packages/sklearn/metrics/_classification.py:1531: UndefinedMetricWarning: Precision is ill-defined and being set to 0.0 in labels with no predicted samples. Use `zero_division` parameter to control this behavior.\n",
      "  _warn_prf(average, modifier, f\"{metric.capitalize()} is\", len(result))\n"
     ]
    }
   ],
   "source": [
    "from sklearn.model_selection import train_test_split\n",
    "from sklearn.feature_extraction.text import TfidfVectorizer\n",
    "from sklearn.linear_model import LogisticRegression\n",
    "from sklearn.pipeline import Pipeline\n",
    "from sklearn.metrics import classification_report, confusion_matrix\n",
    "\n",
    "X = df['brief_summary'].astype(str).str.strip()\n",
    "\n",
    "X_train, X_test, y_train, y_test = train_test_split(\n",
    "    X, y, test_size=0.2, random_state=42, stratify=y\n",
    ")\n",
    "\n",
    "pipe = Pipeline([\n",
    "                    (\"tfidf\", TfidfVectorizer(max_features=30000, ngram_range=(1,2))),\n",
    "                    (\"clf\", LogisticRegression(max_iter=300))\n",
    "])\n",
    "\n",
    "pipe.fit(X_train, y_train)\n",
    "\n",
    "y_pred = pipe.predict(X_test)\n",
    "\n",
    "print(classification_report(y_test, y_pred, digits=3))"
   ]
  }
 ],
 "metadata": {
  "kernelspec": {
   "display_name": "base",
   "language": "python",
   "name": "python3"
  },
  "language_info": {
   "codemirror_mode": {
    "name": "ipython",
    "version": 3
   },
   "file_extension": ".py",
   "mimetype": "text/x-python",
   "name": "python",
   "nbconvert_exporter": "python",
   "pygments_lexer": "ipython3",
   "version": "3.9.7"
  }
 },
 "nbformat": 4,
 "nbformat_minor": 5
}
